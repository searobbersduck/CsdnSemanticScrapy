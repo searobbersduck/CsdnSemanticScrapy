{
 "cells": [
  {
   "cell_type": "code",
   "execution_count": 3,
   "metadata": {
    "collapsed": false
   },
   "outputs": [
    {
     "name": "stdout",
     "output_type": "stream",
     "text": [
      "insert into csdn_semantics_info values('sdfasdf','sdfasdf','sdfasdf','sdfasdf', 'sdfasdf') on duplicate key update title='sdfasdf', link='sdfasdf', description='sdfasdf', updated='sdfasdf'\n"
     ]
    }
   ],
   "source": [
    "str1='sdfasdf'\n",
    "insertcmd=\"insert into csdn_semantics_info values('%s','%s','%s','%s', '%s') on duplicate key update title='%s', link='%s', description='%s', updated='%s'\" % (str1, str1, str1, str1, str1, str1, str1, str1, str1)\n",
    "print insertcmd"
   ]
  },
  {
   "cell_type": "code",
   "execution_count": null,
   "metadata": {
    "collapsed": true
   },
   "outputs": [],
   "source": []
  }
 ],
 "metadata": {
  "kernelspec": {
   "display_name": "Python 2",
   "language": "python",
   "name": "python2"
  },
  "language_info": {
   "codemirror_mode": {
    "name": "ipython",
    "version": 2
   },
   "file_extension": ".py",
   "mimetype": "text/x-python",
   "name": "python",
   "nbconvert_exporter": "python",
   "pygments_lexer": "ipython2",
   "version": "2.7.6"
  }
 },
 "nbformat": 4,
 "nbformat_minor": 0
}
